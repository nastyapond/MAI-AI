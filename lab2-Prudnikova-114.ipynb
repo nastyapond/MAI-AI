{
 "cells": [
  {
   "cell_type": "markdown",
   "metadata": {},
   "source": [
    "# Лабораторная работа №1\n",
    "### Прудникова Анастасия М8О-114СВ-24"
   ]
  },
  {
   "cell_type": "markdown",
   "metadata": {},
   "source": [
    "Глобальная оптимизация и метаэврестические алгоритмы\n",
    "\n",
    "В Pygmo запрограммировать две своих тестовых функции и найти их оптимум 3 разными алгоритмами доступными в библиотеке и получить таблицу сравнения"
   ]
  },
  {
   "cell_type": "code",
   "execution_count": 1,
   "metadata": {},
   "outputs": [],
   "source": [
    "import pygmo as pg\n",
    "import numpy as np\n",
    "import pandas as pd"
   ]
  },
  {
   "cell_type": "code",
   "execution_count": 2,
   "metadata": {},
   "outputs": [],
   "source": [
    "# Определяем первую тестовую функцию\n",
    "class Sphere:\n",
    "    def fitness(self, x):\n",
    "        \"\"\"Функция Sphere: f(x) = sum(x_i^2)\"\"\"\n",
    "        return [sum(xi**2 for xi in x)]\n",
    "\n",
    "    def get_bounds(self):\n",
    "        \"\"\"Границы переменных\"\"\"\n",
    "        return ([-5.12] * self.dim, [5.12] * self.dim)\n",
    "\n",
    "    def __init__(self, dim=10):\n",
    "        self.dim = dim"
   ]
  },
  {
   "cell_type": "code",
   "execution_count": 3,
   "metadata": {},
   "outputs": [],
   "source": [
    "# Определяем вторую тестовую функцию\n",
    "class Rastrigin:\n",
    "    def fitness(self, x):\n",
    "        \"\"\"Функция Rastrigin: f(x) = 10 * n + sum(x_i^2 - 10 * cos(2 * pi * x_i))\"\"\"\n",
    "        return [10 * len(x) + sum(xi**2 - 10 * np.cos(2 * np.pi * xi) for xi in x)]\n",
    "\n",
    "    def get_bounds(self):\n",
    "        \"\"\"Границы переменных\"\"\"\n",
    "        return ([-5.12] * self.dim, [5.12] * self.dim)\n",
    "\n",
    "    def __init__(self, dim=10):\n",
    "        self.dim = dim\n"
   ]
  },
  {
   "cell_type": "markdown",
   "metadata": {},
   "source": [
    "### Тестовые функции:\n",
    "\n",
    "Sphere: Простая квадратичная функция.\n",
    "\n",
    "Rastrigin: Более сложная функция с множеством локальных минимумов.\n",
    "\n",
    "### Алгоритмы:\n",
    "\n",
    "Differential Evolution (Дифференциальная эволюция).\n",
    "\n",
    "Particle Swarm Optimization (Оптимизация роя частиц).\n",
    "\n",
    "Simulated Annealing (Имитация отжига).\n",
    "\n"
   ]
  },
  {
   "cell_type": "code",
   "execution_count": 4,
   "metadata": {},
   "outputs": [],
   "source": [
    "# Список алгоритмов для сравнения\n",
    "algorithms = [\n",
    "    (\"Differential Evolution\", pg.algorithm(pg.de(gen=100))),\n",
    "    (\"Particle Swarm Optimization\", pg.algorithm(pg.pso(gen=100))),\n",
    "    (\"Simulated Annealing\", pg.algorithm(pg.sade(gen=100))),\n",
    "]\n",
    "\n",
    "# Тестовые функции\n",
    "functions = [Sphere(dim=10), Rastrigin(dim=10)]\n",
    "\n",
    "# Результаты будут храниться в таблице\n",
    "results = []"
   ]
  },
  {
   "cell_type": "code",
   "execution_count": 5,
   "metadata": {},
   "outputs": [
    {
     "name": "stdout",
     "output_type": "stream",
     "text": [
      "          Function                    Algorithm  Best Fitness  \\\n",
      "0  Test Function 1       Differential Evolution      7.386282   \n",
      "1  Test Function 1  Particle Swarm Optimization      0.006970   \n",
      "2  Test Function 1          Simulated Annealing      0.078705   \n",
      "3  Test Function 2       Differential Evolution     43.600195   \n",
      "4  Test Function 2  Particle Swarm Optimization     81.090932   \n",
      "5  Test Function 2          Simulated Annealing     40.372356   \n",
      "\n",
      "                                       Best Solution  \n",
      "0  [0.859434810412032, 0.859434810412032, 0.85943...  \n",
      "1  [0.02640106927769814, 0.02640106927769814, 0.0...  \n",
      "2  [0.08871557459214685, 0.08871557459214685, 0.0...  \n",
      "3  [-1.1285079091406467, -1.1285079091406467, -1....  \n",
      "4  [1.8383497899757568, 1.8383497899757568, 1.838...  \n",
      "5  [2.0069284206072746, 2.0069284206072746, 2.006...  \n"
     ]
    }
   ],
   "source": [
    "for func_idx, func in enumerate(functions):\n",
    "    prob = pg.problem(func)\n",
    "    for algo_name, algo in algorithms:\n",
    "        # Создаем начальную популяцию\n",
    "        pop = pg.population(prob, size=20)\n",
    "        # Эволюция популяции\n",
    "        algo.evolve(pop)\n",
    "        results.append({\n",
    "            \"Function\": f\"Test Function {func_idx + 1}\",\n",
    "            \"Algorithm\": algo_name,\n",
    "            \"Best Fitness\": pop.champion_f[0],\n",
    "            \"Best Solution\": pop.champion_x\n",
    "        })\n",
    "\n",
    "df_results = pd.DataFrame(results)\n",
    "print(df_results)"
   ]
  },
  {
   "cell_type": "markdown",
   "metadata": {},
   "source": [
    "### Процесс оптимизации:\n",
    "\n",
    "Для каждой функции и алгоритма создается оптимизационная задача.\n",
    "Генерируется начальная популяция.\n",
    "Алгоритм выполняет оптимизацию, и лучшие решения сохраняются.\n",
    "\n",
    "### Таблица результатов:\n",
    "\n",
    "Таблица включает название функции, название алгоритма, лучшее найденное значение (целевую функцию) и оптимальное решение (вектор переменных)."
   ]
  },
  {
   "cell_type": "markdown",
   "metadata": {},
   "source": [
    "## Вывод\n",
    "\n",
    "В рамках данной работы была выполнена глобальная оптимизация двух тестовых функций с использованием библиотеки PyGMO. Для каждой функции было применено три различных метаэвристических алгоритма. Результаты экспериментов обобщены в виде таблицы."
   ]
  }
 ],
 "metadata": {
  "kernelspec": {
   "display_name": "Python 3",
   "language": "python",
   "name": "python3"
  },
  "language_info": {
   "codemirror_mode": {
    "name": "ipython",
    "version": 3
   },
   "file_extension": ".py",
   "mimetype": "text/x-python",
   "name": "python",
   "nbconvert_exporter": "python",
   "pygments_lexer": "ipython3",
   "version": "3.10.12"
  }
 },
 "nbformat": 4,
 "nbformat_minor": 2
}
